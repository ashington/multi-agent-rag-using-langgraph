{
 "cells": [
  {
   "cell_type": "markdown",
   "metadata": {},
   "source": [
    "## Prerequisites"
   ]
  },
  {
   "cell_type": "code",
   "execution_count": 42,
   "metadata": {},
   "outputs": [
    {
     "name": "stdout",
     "output_type": "stream",
     "text": [
      "Requirement already satisfied: typing_extensions==4.7.1 in c:\\users\\ashington\\appdata\\local\\programs\\python\\python39\\lib\\site-packages (4.7.1)\n"
     ]
    },
    {
     "name": "stderr",
     "output_type": "stream",
     "text": [
      "WARNING: You are using pip version 22.0.4; however, version 25.0 is available.\n",
      "You should consider upgrading via the 'c:\\users\\ashington\\appdata\\local\\programs\\python\\python39\\python.exe -m pip install --upgrade pip' command.\n"
     ]
    },
    {
     "name": "stdout",
     "output_type": "stream",
     "text": [
      "Requirement already satisfied: typing in c:\\users\\ashington\\appdata\\local\\programs\\python\\python39\\lib\\site-packages (3.7.4.3)\n"
     ]
    },
    {
     "name": "stderr",
     "output_type": "stream",
     "text": [
      "WARNING: You are using pip version 22.0.4; however, version 25.0 is available.\n",
      "You should consider upgrading via the 'c:\\users\\ashington\\appdata\\local\\programs\\python\\python39\\python.exe -m pip install --upgrade pip' command.\n"
     ]
    }
   ],
   "source": [
    "!pip install typing_extensions==4.7.1 --upgrade\n",
    "!pip install typing"
   ]
  },
  {
   "cell_type": "code",
   "execution_count": 25,
   "metadata": {},
   "outputs": [
    {
     "name": "stdout",
     "output_type": "stream",
     "text": [
      "Requirement already satisfied: langgraph in c:\\users\\ashington\\appdata\\local\\programs\\python\\python39\\lib\\site-packages (0.2.64)\n",
      "Requirement already satisfied: langchain-core!=0.3.0,!=0.3.1,!=0.3.10,!=0.3.11,!=0.3.12,!=0.3.13,!=0.3.14,!=0.3.15,!=0.3.16,!=0.3.17,!=0.3.18,!=0.3.19,!=0.3.2,!=0.3.20,!=0.3.21,!=0.3.22,!=0.3.3,!=0.3.4,!=0.3.5,!=0.3.6,!=0.3.7,!=0.3.8,!=0.3.9,<0.4.0,>=0.2.43 in c:\\users\\ashington\\appdata\\local\\programs\\python\\python39\\lib\\site-packages (from langgraph) (0.3.30)\n",
      "Requirement already satisfied: langgraph-checkpoint<3.0.0,>=2.0.10 in c:\\users\\ashington\\appdata\\local\\programs\\python\\python39\\lib\\site-packages (from langgraph) (2.0.10)\n",
      "Requirement already satisfied: langgraph-sdk<0.2.0,>=0.1.42 in c:\\users\\ashington\\appdata\\local\\programs\\python\\python39\\lib\\site-packages (from langgraph) (0.1.51)\n",
      "Requirement already satisfied: pydantic<3.0.0,>=2.5.2 in c:\\users\\ashington\\appdata\\local\\programs\\python\\python39\\lib\\site-packages (from langchain-core!=0.3.0,!=0.3.1,!=0.3.10,!=0.3.11,!=0.3.12,!=0.3.13,!=0.3.14,!=0.3.15,!=0.3.16,!=0.3.17,!=0.3.18,!=0.3.19,!=0.3.2,!=0.3.20,!=0.3.21,!=0.3.22,!=0.3.3,!=0.3.4,!=0.3.5,!=0.3.6,!=0.3.7,!=0.3.8,!=0.3.9,<0.4.0,>=0.2.43->langgraph) (2.10.5)\n",
      "Requirement already satisfied: langsmith<0.3,>=0.1.125 in c:\\users\\ashington\\appdata\\local\\programs\\python\\python39\\lib\\site-packages (from langchain-core!=0.3.0,!=0.3.1,!=0.3.10,!=0.3.11,!=0.3.12,!=0.3.13,!=0.3.14,!=0.3.15,!=0.3.16,!=0.3.17,!=0.3.18,!=0.3.19,!=0.3.2,!=0.3.20,!=0.3.21,!=0.3.22,!=0.3.3,!=0.3.4,!=0.3.5,!=0.3.6,!=0.3.7,!=0.3.8,!=0.3.9,<0.4.0,>=0.2.43->langgraph) (0.2.11)\n",
      "Requirement already satisfied: PyYAML>=5.3 in c:\\users\\ashington\\appdata\\local\\programs\\python\\python39\\lib\\site-packages (from langchain-core!=0.3.0,!=0.3.1,!=0.3.10,!=0.3.11,!=0.3.12,!=0.3.13,!=0.3.14,!=0.3.15,!=0.3.16,!=0.3.17,!=0.3.18,!=0.3.19,!=0.3.2,!=0.3.20,!=0.3.21,!=0.3.22,!=0.3.3,!=0.3.4,!=0.3.5,!=0.3.6,!=0.3.7,!=0.3.8,!=0.3.9,<0.4.0,>=0.2.43->langgraph) (6.0.2)\n",
      "Requirement already satisfied: packaging<25,>=23.2 in c:\\users\\ashington\\appdata\\local\\programs\\python\\python39\\lib\\site-packages (from langchain-core!=0.3.0,!=0.3.1,!=0.3.10,!=0.3.11,!=0.3.12,!=0.3.13,!=0.3.14,!=0.3.15,!=0.3.16,!=0.3.17,!=0.3.18,!=0.3.19,!=0.3.2,!=0.3.20,!=0.3.21,!=0.3.22,!=0.3.3,!=0.3.4,!=0.3.5,!=0.3.6,!=0.3.7,!=0.3.8,!=0.3.9,<0.4.0,>=0.2.43->langgraph) (24.2)\n",
      "Requirement already satisfied: jsonpatch<2.0,>=1.33 in c:\\users\\ashington\\appdata\\local\\programs\\python\\python39\\lib\\site-packages (from langchain-core!=0.3.0,!=0.3.1,!=0.3.10,!=0.3.11,!=0.3.12,!=0.3.13,!=0.3.14,!=0.3.15,!=0.3.16,!=0.3.17,!=0.3.18,!=0.3.19,!=0.3.2,!=0.3.20,!=0.3.21,!=0.3.22,!=0.3.3,!=0.3.4,!=0.3.5,!=0.3.6,!=0.3.7,!=0.3.8,!=0.3.9,<0.4.0,>=0.2.43->langgraph) (1.33)\n",
      "Requirement already satisfied: typing-extensions>=4.7 in c:\\users\\ashington\\appdata\\local\\programs\\python\\python39\\lib\\site-packages (from langchain-core!=0.3.0,!=0.3.1,!=0.3.10,!=0.3.11,!=0.3.12,!=0.3.13,!=0.3.14,!=0.3.15,!=0.3.16,!=0.3.17,!=0.3.18,!=0.3.19,!=0.3.2,!=0.3.20,!=0.3.21,!=0.3.22,!=0.3.3,!=0.3.4,!=0.3.5,!=0.3.6,!=0.3.7,!=0.3.8,!=0.3.9,<0.4.0,>=0.2.43->langgraph) (4.12.2)\n",
      "Requirement already satisfied: tenacity!=8.4.0,<10.0.0,>=8.1.0 in c:\\users\\ashington\\appdata\\local\\programs\\python\\python39\\lib\\site-packages (from langchain-core!=0.3.0,!=0.3.1,!=0.3.10,!=0.3.11,!=0.3.12,!=0.3.13,!=0.3.14,!=0.3.15,!=0.3.16,!=0.3.17,!=0.3.18,!=0.3.19,!=0.3.2,!=0.3.20,!=0.3.21,!=0.3.22,!=0.3.3,!=0.3.4,!=0.3.5,!=0.3.6,!=0.3.7,!=0.3.8,!=0.3.9,<0.4.0,>=0.2.43->langgraph) (9.0.0)\n",
      "Requirement already satisfied: msgpack<2.0.0,>=1.1.0 in c:\\users\\ashington\\appdata\\local\\programs\\python\\python39\\lib\\site-packages (from langgraph-checkpoint<3.0.0,>=2.0.10->langgraph) (1.1.0)\n",
      "Requirement already satisfied: orjson>=3.10.1 in c:\\users\\ashington\\appdata\\local\\programs\\python\\python39\\lib\\site-packages (from langgraph-sdk<0.2.0,>=0.1.42->langgraph) (3.10.14)\n",
      "Requirement already satisfied: httpx>=0.25.2 in c:\\users\\ashington\\appdata\\local\\programs\\python\\python39\\lib\\site-packages (from langgraph-sdk<0.2.0,>=0.1.42->langgraph) (0.28.1)\n",
      "Requirement already satisfied: idna in c:\\users\\ashington\\appdata\\local\\programs\\python\\python39\\lib\\site-packages (from httpx>=0.25.2->langgraph-sdk<0.2.0,>=0.1.42->langgraph) (3.10)\n",
      "Requirement already satisfied: httpcore==1.* in c:\\users\\ashington\\appdata\\local\\programs\\python\\python39\\lib\\site-packages (from httpx>=0.25.2->langgraph-sdk<0.2.0,>=0.1.42->langgraph) (1.0.7)\n",
      "Requirement already satisfied: anyio in c:\\users\\ashington\\appdata\\local\\programs\\python\\python39\\lib\\site-packages (from httpx>=0.25.2->langgraph-sdk<0.2.0,>=0.1.42->langgraph) (4.8.0)\n",
      "Requirement already satisfied: certifi in c:\\users\\ashington\\appdata\\local\\programs\\python\\python39\\lib\\site-packages (from httpx>=0.25.2->langgraph-sdk<0.2.0,>=0.1.42->langgraph) (2024.12.14)\n",
      "Requirement already satisfied: h11<0.15,>=0.13 in c:\\users\\ashington\\appdata\\local\\programs\\python\\python39\\lib\\site-packages (from httpcore==1.*->httpx>=0.25.2->langgraph-sdk<0.2.0,>=0.1.42->langgraph) (0.14.0)\n",
      "Requirement already satisfied: jsonpointer>=1.9 in c:\\users\\ashington\\appdata\\local\\programs\\python\\python39\\lib\\site-packages (from jsonpatch<2.0,>=1.33->langchain-core!=0.3.0,!=0.3.1,!=0.3.10,!=0.3.11,!=0.3.12,!=0.3.13,!=0.3.14,!=0.3.15,!=0.3.16,!=0.3.17,!=0.3.18,!=0.3.19,!=0.3.2,!=0.3.20,!=0.3.21,!=0.3.22,!=0.3.3,!=0.3.4,!=0.3.5,!=0.3.6,!=0.3.7,!=0.3.8,!=0.3.9,<0.4.0,>=0.2.43->langgraph) (3.0.0)\n",
      "Requirement already satisfied: requests<3,>=2 in c:\\users\\ashington\\appdata\\local\\programs\\python\\python39\\lib\\site-packages (from langsmith<0.3,>=0.1.125->langchain-core!=0.3.0,!=0.3.1,!=0.3.10,!=0.3.11,!=0.3.12,!=0.3.13,!=0.3.14,!=0.3.15,!=0.3.16,!=0.3.17,!=0.3.18,!=0.3.19,!=0.3.2,!=0.3.20,!=0.3.21,!=0.3.22,!=0.3.3,!=0.3.4,!=0.3.5,!=0.3.6,!=0.3.7,!=0.3.8,!=0.3.9,<0.4.0,>=0.2.43->langgraph) (2.32.3)\n",
      "Requirement already satisfied: requests-toolbelt<2.0.0,>=1.0.0 in c:\\users\\ashington\\appdata\\local\\programs\\python\\python39\\lib\\site-packages (from langsmith<0.3,>=0.1.125->langchain-core!=0.3.0,!=0.3.1,!=0.3.10,!=0.3.11,!=0.3.12,!=0.3.13,!=0.3.14,!=0.3.15,!=0.3.16,!=0.3.17,!=0.3.18,!=0.3.19,!=0.3.2,!=0.3.20,!=0.3.21,!=0.3.22,!=0.3.3,!=0.3.4,!=0.3.5,!=0.3.6,!=0.3.7,!=0.3.8,!=0.3.9,<0.4.0,>=0.2.43->langgraph) (1.0.0)\n",
      "Requirement already satisfied: annotated-types>=0.6.0 in c:\\users\\ashington\\appdata\\local\\programs\\python\\python39\\lib\\site-packages (from pydantic<3.0.0,>=2.5.2->langchain-core!=0.3.0,!=0.3.1,!=0.3.10,!=0.3.11,!=0.3.12,!=0.3.13,!=0.3.14,!=0.3.15,!=0.3.16,!=0.3.17,!=0.3.18,!=0.3.19,!=0.3.2,!=0.3.20,!=0.3.21,!=0.3.22,!=0.3.3,!=0.3.4,!=0.3.5,!=0.3.6,!=0.3.7,!=0.3.8,!=0.3.9,<0.4.0,>=0.2.43->langgraph) (0.7.0)\n",
      "Requirement already satisfied: pydantic-core==2.27.2 in c:\\users\\ashington\\appdata\\local\\programs\\python\\python39\\lib\\site-packages (from pydantic<3.0.0,>=2.5.2->langchain-core!=0.3.0,!=0.3.1,!=0.3.10,!=0.3.11,!=0.3.12,!=0.3.13,!=0.3.14,!=0.3.15,!=0.3.16,!=0.3.17,!=0.3.18,!=0.3.19,!=0.3.2,!=0.3.20,!=0.3.21,!=0.3.22,!=0.3.3,!=0.3.4,!=0.3.5,!=0.3.6,!=0.3.7,!=0.3.8,!=0.3.9,<0.4.0,>=0.2.43->langgraph) (2.27.2)\n",
      "Requirement already satisfied: urllib3<3,>=1.21.1 in c:\\users\\ashington\\appdata\\local\\programs\\python\\python39\\lib\\site-packages (from requests<3,>=2->langsmith<0.3,>=0.1.125->langchain-core!=0.3.0,!=0.3.1,!=0.3.10,!=0.3.11,!=0.3.12,!=0.3.13,!=0.3.14,!=0.3.15,!=0.3.16,!=0.3.17,!=0.3.18,!=0.3.19,!=0.3.2,!=0.3.20,!=0.3.21,!=0.3.22,!=0.3.3,!=0.3.4,!=0.3.5,!=0.3.6,!=0.3.7,!=0.3.8,!=0.3.9,<0.4.0,>=0.2.43->langgraph) (2.3.0)\n",
      "Requirement already satisfied: charset-normalizer<4,>=2 in c:\\users\\ashington\\appdata\\local\\programs\\python\\python39\\lib\\site-packages (from requests<3,>=2->langsmith<0.3,>=0.1.125->langchain-core!=0.3.0,!=0.3.1,!=0.3.10,!=0.3.11,!=0.3.12,!=0.3.13,!=0.3.14,!=0.3.15,!=0.3.16,!=0.3.17,!=0.3.18,!=0.3.19,!=0.3.2,!=0.3.20,!=0.3.21,!=0.3.22,!=0.3.3,!=0.3.4,!=0.3.5,!=0.3.6,!=0.3.7,!=0.3.8,!=0.3.9,<0.4.0,>=0.2.43->langgraph) (3.4.1)\n",
      "Requirement already satisfied: sniffio>=1.1 in c:\\users\\ashington\\appdata\\local\\programs\\python\\python39\\lib\\site-packages (from anyio->httpx>=0.25.2->langgraph-sdk<0.2.0,>=0.1.42->langgraph) (1.3.1)\n",
      "Requirement already satisfied: exceptiongroup>=1.0.2 in c:\\users\\ashington\\appdata\\local\\programs\\python\\python39\\lib\\site-packages (from anyio->httpx>=0.25.2->langgraph-sdk<0.2.0,>=0.1.42->langgraph) (1.2.2)\n"
     ]
    },
    {
     "name": "stderr",
     "output_type": "stream",
     "text": [
      "WARNING: You are using pip version 22.0.4; however, version 25.0 is available.\n",
      "You should consider upgrading via the 'c:\\users\\ashington\\appdata\\local\\programs\\python\\python39\\python.exe -m pip install --upgrade pip' command.\n"
     ]
    }
   ],
   "source": [
    "!pip install langgraph"
   ]
  },
  {
   "cell_type": "code",
   "execution_count": 26,
   "metadata": {},
   "outputs": [
    {
     "name": "stdout",
     "output_type": "stream",
     "text": [
      "Requirement already satisfied: langsmith in c:\\users\\ashington\\appdata\\local\\programs\\python\\python39\\lib\\site-packages (0.2.11)\n",
      "Requirement already satisfied: httpx<1,>=0.23.0 in c:\\users\\ashington\\appdata\\local\\programs\\python\\python39\\lib\\site-packages (from langsmith) (0.28.1)\n",
      "Requirement already satisfied: pydantic<3,>=1 in c:\\users\\ashington\\appdata\\local\\programs\\python\\python39\\lib\\site-packages (from langsmith) (2.10.5)\n",
      "Requirement already satisfied: orjson<4.0.0,>=3.9.14 in c:\\users\\ashington\\appdata\\local\\programs\\python\\python39\\lib\\site-packages (from langsmith) (3.10.14)\n",
      "Requirement already satisfied: requests<3,>=2 in c:\\users\\ashington\\appdata\\local\\programs\\python\\python39\\lib\\site-packages (from langsmith) (2.32.3)\n",
      "Requirement already satisfied: requests-toolbelt<2.0.0,>=1.0.0 in c:\\users\\ashington\\appdata\\local\\programs\\python\\python39\\lib\\site-packages (from langsmith) (1.0.0)\n",
      "Requirement already satisfied: idna in c:\\users\\ashington\\appdata\\local\\programs\\python\\python39\\lib\\site-packages (from httpx<1,>=0.23.0->langsmith) (3.10)\n",
      "Requirement already satisfied: anyio in c:\\users\\ashington\\appdata\\local\\programs\\python\\python39\\lib\\site-packages (from httpx<1,>=0.23.0->langsmith) (4.8.0)\n",
      "Requirement already satisfied: certifi in c:\\users\\ashington\\appdata\\local\\programs\\python\\python39\\lib\\site-packages (from httpx<1,>=0.23.0->langsmith) (2024.12.14)\n",
      "Requirement already satisfied: httpcore==1.* in c:\\users\\ashington\\appdata\\local\\programs\\python\\python39\\lib\\site-packages (from httpx<1,>=0.23.0->langsmith) (1.0.7)\n",
      "Requirement already satisfied: h11<0.15,>=0.13 in c:\\users\\ashington\\appdata\\local\\programs\\python\\python39\\lib\\site-packages (from httpcore==1.*->httpx<1,>=0.23.0->langsmith) (0.14.0)\n",
      "Requirement already satisfied: annotated-types>=0.6.0 in c:\\users\\ashington\\appdata\\local\\programs\\python\\python39\\lib\\site-packages (from pydantic<3,>=1->langsmith) (0.7.0)\n",
      "Requirement already satisfied: typing-extensions>=4.12.2 in c:\\users\\ashington\\appdata\\local\\programs\\python\\python39\\lib\\site-packages (from pydantic<3,>=1->langsmith) (4.12.2)\n",
      "Requirement already satisfied: pydantic-core==2.27.2 in c:\\users\\ashington\\appdata\\local\\programs\\python\\python39\\lib\\site-packages (from pydantic<3,>=1->langsmith) (2.27.2)\n",
      "Requirement already satisfied: urllib3<3,>=1.21.1 in c:\\users\\ashington\\appdata\\local\\programs\\python\\python39\\lib\\site-packages (from requests<3,>=2->langsmith) (2.3.0)\n",
      "Requirement already satisfied: charset-normalizer<4,>=2 in c:\\users\\ashington\\appdata\\local\\programs\\python\\python39\\lib\\site-packages (from requests<3,>=2->langsmith) (3.4.1)\n",
      "Requirement already satisfied: exceptiongroup>=1.0.2 in c:\\users\\ashington\\appdata\\local\\programs\\python\\python39\\lib\\site-packages (from anyio->httpx<1,>=0.23.0->langsmith) (1.2.2)\n",
      "Requirement already satisfied: sniffio>=1.1 in c:\\users\\ashington\\appdata\\local\\programs\\python\\python39\\lib\\site-packages (from anyio->httpx<1,>=0.23.0->langsmith) (1.3.1)\n"
     ]
    },
    {
     "name": "stderr",
     "output_type": "stream",
     "text": [
      "WARNING: You are using pip version 22.0.4; however, version 25.0 is available.\n",
      "You should consider upgrading via the 'c:\\users\\ashington\\appdata\\local\\programs\\python\\python39\\python.exe -m pip install --upgrade pip' command.\n"
     ]
    }
   ],
   "source": [
    "!pip install langsmith"
   ]
  },
  {
   "cell_type": "code",
   "execution_count": 27,
   "metadata": {},
   "outputs": [
    {
     "name": "stdout",
     "output_type": "stream",
     "text": [
      "Requirement already satisfied: langchain in c:\\users\\ashington\\appdata\\local\\programs\\python\\python39\\lib\\site-packages (0.3.14)\n",
      "Requirement already satisfied: langchain_groq in c:\\users\\ashington\\appdata\\local\\programs\\python\\python39\\lib\\site-packages (0.2.3)\n",
      "Requirement already satisfied: langchain_community in c:\\users\\ashington\\appdata\\local\\programs\\python\\python39\\lib\\site-packages (0.3.14)\n",
      "Requirement already satisfied: SQLAlchemy<3,>=1.4 in c:\\users\\ashington\\appdata\\local\\programs\\python\\python39\\lib\\site-packages (from langchain) (2.0.37)\n",
      "Requirement already satisfied: langsmith<0.3,>=0.1.17 in c:\\users\\ashington\\appdata\\local\\programs\\python\\python39\\lib\\site-packages (from langchain) (0.2.11)\n",
      "Requirement already satisfied: numpy<2,>=1.22.4 in c:\\users\\ashington\\appdata\\local\\programs\\python\\python39\\lib\\site-packages (from langchain) (1.26.4)\n",
      "Requirement already satisfied: requests<3,>=2 in c:\\users\\ashington\\appdata\\local\\programs\\python\\python39\\lib\\site-packages (from langchain) (2.32.3)\n",
      "Requirement already satisfied: tenacity!=8.4.0,<10,>=8.1.0 in c:\\users\\ashington\\appdata\\local\\programs\\python\\python39\\lib\\site-packages (from langchain) (9.0.0)\n",
      "Requirement already satisfied: pydantic<3.0.0,>=2.7.4 in c:\\users\\ashington\\appdata\\local\\programs\\python\\python39\\lib\\site-packages (from langchain) (2.10.5)\n",
      "Requirement already satisfied: langchain-text-splitters<0.4.0,>=0.3.3 in c:\\users\\ashington\\appdata\\local\\programs\\python\\python39\\lib\\site-packages (from langchain) (0.3.5)\n",
      "Requirement already satisfied: PyYAML>=5.3 in c:\\users\\ashington\\appdata\\local\\programs\\python\\python39\\lib\\site-packages (from langchain) (6.0.2)\n",
      "Requirement already satisfied: aiohttp<4.0.0,>=3.8.3 in c:\\users\\ashington\\appdata\\local\\programs\\python\\python39\\lib\\site-packages (from langchain) (3.11.11)\n",
      "Requirement already satisfied: langchain-core<0.4.0,>=0.3.29 in c:\\users\\ashington\\appdata\\local\\programs\\python\\python39\\lib\\site-packages (from langchain) (0.3.30)\n",
      "Requirement already satisfied: async-timeout<5.0.0,>=4.0.0 in c:\\users\\ashington\\appdata\\local\\programs\\python\\python39\\lib\\site-packages (from langchain) (4.0.3)\n",
      "Requirement already satisfied: groq<1,>=0.4.1 in c:\\users\\ashington\\appdata\\local\\programs\\python\\python39\\lib\\site-packages (from langchain_groq) (0.15.0)\n",
      "Requirement already satisfied: httpx-sse<0.5.0,>=0.4.0 in c:\\users\\ashington\\appdata\\local\\programs\\python\\python39\\lib\\site-packages (from langchain_community) (0.4.0)\n",
      "Requirement already satisfied: pydantic-settings<3.0.0,>=2.4.0 in c:\\users\\ashington\\appdata\\local\\programs\\python\\python39\\lib\\site-packages (from langchain_community) (2.7.1)\n",
      "Requirement already satisfied: dataclasses-json<0.7,>=0.5.7 in c:\\users\\ashington\\appdata\\local\\programs\\python\\python39\\lib\\site-packages (from langchain_community) (0.6.7)\n",
      "Requirement already satisfied: frozenlist>=1.1.1 in c:\\users\\ashington\\appdata\\local\\programs\\python\\python39\\lib\\site-packages (from aiohttp<4.0.0,>=3.8.3->langchain) (1.5.0)\n",
      "Requirement already satisfied: aiohappyeyeballs>=2.3.0 in c:\\users\\ashington\\appdata\\local\\programs\\python\\python39\\lib\\site-packages (from aiohttp<4.0.0,>=3.8.3->langchain) (2.4.4)\n",
      "Requirement already satisfied: aiosignal>=1.1.2 in c:\\users\\ashington\\appdata\\local\\programs\\python\\python39\\lib\\site-packages (from aiohttp<4.0.0,>=3.8.3->langchain) (1.3.2)\n",
      "Requirement already satisfied: propcache>=0.2.0 in c:\\users\\ashington\\appdata\\local\\programs\\python\\python39\\lib\\site-packages (from aiohttp<4.0.0,>=3.8.3->langchain) (0.2.1)\n",
      "Requirement already satisfied: yarl<2.0,>=1.17.0 in c:\\users\\ashington\\appdata\\local\\programs\\python\\python39\\lib\\site-packages (from aiohttp<4.0.0,>=3.8.3->langchain) (1.18.3)\n",
      "Requirement already satisfied: multidict<7.0,>=4.5 in c:\\users\\ashington\\appdata\\local\\programs\\python\\python39\\lib\\site-packages (from aiohttp<4.0.0,>=3.8.3->langchain) (6.1.0)\n",
      "Requirement already satisfied: attrs>=17.3.0 in c:\\users\\ashington\\appdata\\local\\programs\\python\\python39\\lib\\site-packages (from aiohttp<4.0.0,>=3.8.3->langchain) (21.4.0)\n",
      "Requirement already satisfied: marshmallow<4.0.0,>=3.18.0 in c:\\users\\ashington\\appdata\\local\\programs\\python\\python39\\lib\\site-packages (from dataclasses-json<0.7,>=0.5.7->langchain_community) (3.25.1)\n",
      "Requirement already satisfied: typing-inspect<1,>=0.4.0 in c:\\users\\ashington\\appdata\\local\\programs\\python\\python39\\lib\\site-packages (from dataclasses-json<0.7,>=0.5.7->langchain_community) (0.9.0)\n",
      "Requirement already satisfied: sniffio in c:\\users\\ashington\\appdata\\local\\programs\\python\\python39\\lib\\site-packages (from groq<1,>=0.4.1->langchain_groq) (1.3.1)\n",
      "Requirement already satisfied: httpx<1,>=0.23.0 in c:\\users\\ashington\\appdata\\local\\programs\\python\\python39\\lib\\site-packages (from groq<1,>=0.4.1->langchain_groq) (0.28.1)\n",
      "Requirement already satisfied: typing-extensions<5,>=4.10 in c:\\users\\ashington\\appdata\\local\\programs\\python\\python39\\lib\\site-packages (from groq<1,>=0.4.1->langchain_groq) (4.12.2)\n",
      "Requirement already satisfied: distro<2,>=1.7.0 in c:\\users\\ashington\\appdata\\local\\programs\\python\\python39\\lib\\site-packages (from groq<1,>=0.4.1->langchain_groq) (1.9.0)\n",
      "Requirement already satisfied: anyio<5,>=3.5.0 in c:\\users\\ashington\\appdata\\local\\programs\\python\\python39\\lib\\site-packages (from groq<1,>=0.4.1->langchain_groq) (4.8.0)\n",
      "Requirement already satisfied: jsonpatch<2.0,>=1.33 in c:\\users\\ashington\\appdata\\local\\programs\\python\\python39\\lib\\site-packages (from langchain-core<0.4.0,>=0.3.29->langchain) (1.33)\n",
      "Requirement already satisfied: packaging<25,>=23.2 in c:\\users\\ashington\\appdata\\local\\programs\\python\\python39\\lib\\site-packages (from langchain-core<0.4.0,>=0.3.29->langchain) (24.2)\n",
      "Requirement already satisfied: requests-toolbelt<2.0.0,>=1.0.0 in c:\\users\\ashington\\appdata\\local\\programs\\python\\python39\\lib\\site-packages (from langsmith<0.3,>=0.1.17->langchain) (1.0.0)\n",
      "Requirement already satisfied: orjson<4.0.0,>=3.9.14 in c:\\users\\ashington\\appdata\\local\\programs\\python\\python39\\lib\\site-packages (from langsmith<0.3,>=0.1.17->langchain) (3.10.14)\n",
      "Requirement already satisfied: annotated-types>=0.6.0 in c:\\users\\ashington\\appdata\\local\\programs\\python\\python39\\lib\\site-packages (from pydantic<3.0.0,>=2.7.4->langchain) (0.7.0)\n",
      "Requirement already satisfied: pydantic-core==2.27.2 in c:\\users\\ashington\\appdata\\local\\programs\\python\\python39\\lib\\site-packages (from pydantic<3.0.0,>=2.7.4->langchain) (2.27.2)\n",
      "Requirement already satisfied: python-dotenv>=0.21.0 in c:\\users\\ashington\\appdata\\local\\programs\\python\\python39\\lib\\site-packages (from pydantic-settings<3.0.0,>=2.4.0->langchain_community) (1.0.1)\n",
      "Requirement already satisfied: certifi>=2017.4.17 in c:\\users\\ashington\\appdata\\local\\programs\\python\\python39\\lib\\site-packages (from requests<3,>=2->langchain) (2024.12.14)\n",
      "Requirement already satisfied: idna<4,>=2.5 in c:\\users\\ashington\\appdata\\local\\programs\\python\\python39\\lib\\site-packages (from requests<3,>=2->langchain) (3.10)\n",
      "Requirement already satisfied: urllib3<3,>=1.21.1 in c:\\users\\ashington\\appdata\\local\\programs\\python\\python39\\lib\\site-packages (from requests<3,>=2->langchain) (2.3.0)\n",
      "Requirement already satisfied: charset-normalizer<4,>=2 in c:\\users\\ashington\\appdata\\local\\programs\\python\\python39\\lib\\site-packages (from requests<3,>=2->langchain) (3.4.1)\n",
      "Requirement already satisfied: greenlet!=0.4.17 in c:\\users\\ashington\\appdata\\local\\programs\\python\\python39\\lib\\site-packages (from SQLAlchemy<3,>=1.4->langchain) (3.1.1)\n",
      "Requirement already satisfied: exceptiongroup>=1.0.2 in c:\\users\\ashington\\appdata\\local\\programs\\python\\python39\\lib\\site-packages (from anyio<5,>=3.5.0->groq<1,>=0.4.1->langchain_groq) (1.2.2)\n",
      "Requirement already satisfied: httpcore==1.* in c:\\users\\ashington\\appdata\\local\\programs\\python\\python39\\lib\\site-packages (from httpx<1,>=0.23.0->groq<1,>=0.4.1->langchain_groq) (1.0.7)\n",
      "Requirement already satisfied: h11<0.15,>=0.13 in c:\\users\\ashington\\appdata\\local\\programs\\python\\python39\\lib\\site-packages (from httpcore==1.*->httpx<1,>=0.23.0->groq<1,>=0.4.1->langchain_groq) (0.14.0)\n",
      "Requirement already satisfied: jsonpointer>=1.9 in c:\\users\\ashington\\appdata\\local\\programs\\python\\python39\\lib\\site-packages (from jsonpatch<2.0,>=1.33->langchain-core<0.4.0,>=0.3.29->langchain) (3.0.0)\n",
      "Requirement already satisfied: mypy-extensions>=0.3.0 in c:\\users\\ashington\\appdata\\local\\programs\\python\\python39\\lib\\site-packages (from typing-inspect<1,>=0.4.0->dataclasses-json<0.7,>=0.5.7->langchain_community) (1.0.0)\n"
     ]
    },
    {
     "name": "stderr",
     "output_type": "stream",
     "text": [
      "WARNING: You are using pip version 22.0.4; however, version 25.0 is available.\n",
      "You should consider upgrading via the 'c:\\users\\ashington\\appdata\\local\\programs\\python\\python39\\python.exe -m pip install --upgrade pip' command.\n"
     ]
    }
   ],
   "source": [
    "!pip install langchain langchain_groq langchain_community"
   ]
  },
  {
   "cell_type": "code",
   "execution_count": 1,
   "metadata": {},
   "outputs": [],
   "source": [
    "groq_api_key = \"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\"\n",
    "langsmith = \"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\""
   ]
  },
  {
   "cell_type": "code",
   "execution_count": 2,
   "metadata": {},
   "outputs": [],
   "source": [
    "import os\n",
    "os.environ[\"LANGCHAIN_TRACING_V2\"] = \"true\"\n",
    "os.environ[\"LANGCHAIN_PROJECT\"] = \"CourseLangGraph\"\n",
    "os.environ[\"LANGCHAIN_API_KEY\"] = langsmith"
   ]
  },
  {
   "cell_type": "code",
   "execution_count": 3,
   "metadata": {},
   "outputs": [],
   "source": [
    "from langchain_groq import ChatGroq"
   ]
  },
  {
   "cell_type": "markdown",
   "metadata": {},
   "source": [
    "## Creating LLM"
   ]
  },
  {
   "cell_type": "code",
   "execution_count": 4,
   "metadata": {},
   "outputs": [],
   "source": [
    "llm = ChatGroq(groq_api_key=groq_api_key,model_name=\"Gemma2-9b-It\")"
   ]
  },
  {
   "cell_type": "code",
   "execution_count": 5,
   "metadata": {},
   "outputs": [
    {
     "data": {
      "text/plain": [
       "ChatGroq(client=<groq.resources.chat.completions.Completions object at 0x0000023335A61460>, async_client=<groq.resources.chat.completions.AsyncCompletions object at 0x0000023335A6B070>, model_name='Gemma2-9b-It', model_kwargs={}, groq_api_key=SecretStr('**********'))"
      ]
     },
     "execution_count": 5,
     "metadata": {},
     "output_type": "execute_result"
    }
   ],
   "source": [
    "llm"
   ]
  },
  {
   "cell_type": "markdown",
   "metadata": {},
   "source": [
    "## Start Building chatbot using langgraph"
   ]
  },
  {
   "cell_type": "code",
   "execution_count": 15,
   "metadata": {},
   "outputs": [],
   "source": [
    "from typing import Annotated\n",
    "import typeddict\n",
    "from typing_extensions import TypedDict\n",
    "from langgraph.graph import StateGraph,START,END\n",
    "from langgraph.graph.message import add_messages"
   ]
  },
  {
   "cell_type": "markdown",
   "metadata": {},
   "source": []
  },
  {
   "cell_type": "code",
   "execution_count": 16,
   "metadata": {},
   "outputs": [],
   "source": [
    "class State(TypedDict):\n",
    "    \"\"\"\n",
    "    Messages have the type list.\n",
    "    The add_messages function in the annotation defines how this state key should be updated.\n",
    "    In this case it appends messges to the list, rather than overwriting them\n",
    "    \"\"\"\n",
    "    messages:Annotated[list,add_messages]\n",
    "\n",
    "graph_builder = StateGraph(State)"
   ]
  },
  {
   "cell_type": "code",
   "execution_count": 17,
   "metadata": {},
   "outputs": [
    {
     "data": {
      "text/plain": [
       "<langgraph.graph.state.StateGraph at 0x23335c111f0>"
      ]
     },
     "execution_count": 17,
     "metadata": {},
     "output_type": "execute_result"
    }
   ],
   "source": [
    "graph_builder"
   ]
  },
  {
   "cell_type": "code",
   "execution_count": 18,
   "metadata": {},
   "outputs": [],
   "source": [
    "def chatbot(state:State):\n",
    "    return {\"messages\":llm.invoke(state['messages'])}\n",
    "    "
   ]
  },
  {
   "cell_type": "code",
   "execution_count": 19,
   "metadata": {},
   "outputs": [
    {
     "data": {
      "text/plain": [
       "<langgraph.graph.state.StateGraph at 0x23335c111f0>"
      ]
     },
     "execution_count": 19,
     "metadata": {},
     "output_type": "execute_result"
    }
   ],
   "source": [
    "graph_builder.add_node(\"chatbot\",chatbot)"
   ]
  },
  {
   "cell_type": "code",
   "execution_count": 20,
   "metadata": {},
   "outputs": [
    {
     "data": {
      "text/plain": [
       "<langgraph.graph.state.StateGraph at 0x23335c111f0>"
      ]
     },
     "execution_count": 20,
     "metadata": {},
     "output_type": "execute_result"
    }
   ],
   "source": [
    "graph_builder.add_edge(START,\"chatbot\")\n",
    "graph_builder.add_edge(\"chatbot\",END)"
   ]
  },
  {
   "cell_type": "code",
   "execution_count": 23,
   "metadata": {},
   "outputs": [],
   "source": [
    "graph = graph_builder.compile()"
   ]
  },
  {
   "cell_type": "code",
   "execution_count": 24,
   "metadata": {},
   "outputs": [
    {
     "data": {
      "image/png": "[encoded data removed]",
      "text/plain": [
       "<IPython.core.display.Image object>"
      ]
     },
     "metadata": {},
     "output_type": "display_data"
    }
   ],
   "source": [
    "from IPython.display import Image, display\n",
    "try:\n",
    "    display(Image(graph.get_graph().draw_mermaid_png()))\n",
    "except Exception:\n",
    "    pass"
   ]
  },
  {
   "cell_type": "code",
   "execution_count": 25,
   "metadata": {},
   "outputs": [
    {
     "name": "stdout",
     "output_type": "stream",
     "text": [
      "dict_values([{'messages': AIMessage(content='Hello! 👋 How can I help you today?\\n', additional_kwargs={}, response_metadata={'token_usage': {'completion_tokens': 13, 'prompt_tokens': 10, 'total_tokens': 23, 'completion_time': 0.023636364, 'prompt_time': 4e-07, 'queue_time': 0.023525579999999997, 'total_time': 0.023636764}, 'model_name': 'Gemma2-9b-It', 'system_fingerprint': 'fp_10c08bf97d', 'finish_reason': 'stop', 'logprobs': None}, id='run-3aec4b00-e662-45b4-96bf-d3fdf596c702-0', usage_metadata={'input_tokens': 10, 'output_tokens': 13, 'total_tokens': 23})}])\n",
      "content='Hello! 👋 How can I help you today?\\n' additional_kwargs={} response_metadata={'token_usage': {'completion_tokens': 13, 'prompt_tokens': 10, 'total_tokens': 23, 'completion_time': 0.023636364, 'prompt_time': 4e-07, 'queue_time': 0.023525579999999997, 'total_time': 0.023636764}, 'model_name': 'Gemma2-9b-It', 'system_fingerprint': 'fp_10c08bf97d', 'finish_reason': 'stop', 'logprobs': None} id='run-3aec4b00-e662-45b4-96bf-d3fdf596c702-0' usage_metadata={'input_tokens': 10, 'output_tokens': 13, 'total_tokens': 23}\n",
      "Assistant: Hello! 👋 How can I help you today?\n",
      "\n",
      "dict_values([{'messages': AIMessage(content=\"Gen AI stands for **Generative Artificial Intelligence**. \\n\\nIt's a type of artificial intelligence that focuses on creating new content, rather than simply analyzing existing data. Think of it like this:\\n\\n* **Traditional AI:**  Analyzes data, identifies patterns, and makes predictions. (e.g., recommending a movie based on your past watch history)\\n* **Gen AI:**  Uses learned patterns to generate new content. (e.g., writing a poem in the style of Shakespeare, composing a piece of music, creating a realistic image from a text description)\\n\\n**Here are some key things to know about Gen AI:**\\n\\n* **How it works:** Gen AI models are trained on massive datasets of text, code, images, audio, or other types of data. This allows them to learn the underlying patterns and structures within the data. They can then use this knowledge to generate new content that resembles the training data.\\n* **Examples:**\\n    * **Text Generation:** ChatGPT (like me!), Bard, Jasper\\n    * **Image Generation:** DALL-E 2, Stable Diffusion, Midjourney\\n    * **Code Generation:** GitHub Copilot, Codex\\n    * **Music Generation:** Amper Music, Jukebox\\n    * **Video Generation:** RunwayML\\n* **Potential applications:** Gen AI has a wide range of potential applications, including:\\n    * **Creative industries:** Writing novels, composing music, creating artwork\\n    * **Marketing and advertising:** Generating personalized content, creating ad copy\\n    * **Education:** Creating interactive learning experiences, generating personalized homework\\n    * **Research:** Accelerating scientific discovery by generating hypotheses and simulations\\n    * **Customer service:** Automating responses to common customer queries\\n\\n**It's important to note:**\\n\\n* Gen AI is still a rapidly evolving field, and there are many ethical considerations surrounding its use.\\n* While Gen AI can generate impressive results, it's important to remember that it's still a machine learning model and its output can sometimes be inaccurate, biased, or even harmful.\\n\\n\\nLet me know if you have any other questions about Gen AI!\\n\", additional_kwargs={}, response_metadata={'token_usage': {'completion_tokens': 440, 'prompt_tokens': 13, 'total_tokens': 453, 'completion_time': 0.8, 'prompt_time': 7.466e-05, 'queue_time': 0.021710596, 'total_time': 0.80007466}, 'model_name': 'Gemma2-9b-It', 'system_fingerprint': 'fp_10c08bf97d', 'finish_reason': 'stop', 'logprobs': None}, id='run-fc6862d5-c3d3-4d77-bfe2-0de9da3633ea-0', usage_metadata={'input_tokens': 13, 'output_tokens': 440, 'total_tokens': 453})}])\n",
      "content=\"Gen AI stands for **Generative Artificial Intelligence**. \\n\\nIt's a type of artificial intelligence that focuses on creating new content, rather than simply analyzing existing data. Think of it like this:\\n\\n* **Traditional AI:**  Analyzes data, identifies patterns, and makes predictions. (e.g., recommending a movie based on your past watch history)\\n* **Gen AI:**  Uses learned patterns to generate new content. (e.g., writing a poem in the style of Shakespeare, composing a piece of music, creating a realistic image from a text description)\\n\\n**Here are some key things to know about Gen AI:**\\n\\n* **How it works:** Gen AI models are trained on massive datasets of text, code, images, audio, or other types of data. This allows them to learn the underlying patterns and structures within the data. They can then use this knowledge to generate new content that resembles the training data.\\n* **Examples:**\\n    * **Text Generation:** ChatGPT (like me!), Bard, Jasper\\n    * **Image Generation:** DALL-E 2, Stable Diffusion, Midjourney\\n    * **Code Generation:** GitHub Copilot, Codex\\n    * **Music Generation:** Amper Music, Jukebox\\n    * **Video Generation:** RunwayML\\n* **Potential applications:** Gen AI has a wide range of potential applications, including:\\n    * **Creative industries:** Writing novels, composing music, creating artwork\\n    * **Marketing and advertising:** Generating personalized content, creating ad copy\\n    * **Education:** Creating interactive learning experiences, generating personalized homework\\n    * **Research:** Accelerating scientific discovery by generating hypotheses and simulations\\n    * **Customer service:** Automating responses to common customer queries\\n\\n**It's important to note:**\\n\\n* Gen AI is still a rapidly evolving field, and there are many ethical considerations surrounding its use.\\n* While Gen AI can generate impressive results, it's important to remember that it's still a machine learning model and its output can sometimes be inaccurate, biased, or even harmful.\\n\\n\\nLet me know if you have any other questions about Gen AI!\\n\" additional_kwargs={} response_metadata={'token_usage': {'completion_tokens': 440, 'prompt_tokens': 13, 'total_tokens': 453, 'completion_time': 0.8, 'prompt_time': 7.466e-05, 'queue_time': 0.021710596, 'total_time': 0.80007466}, 'model_name': 'Gemma2-9b-It', 'system_fingerprint': 'fp_10c08bf97d', 'finish_reason': 'stop', 'logprobs': None} id='run-fc6862d5-c3d3-4d77-bfe2-0de9da3633ea-0' usage_metadata={'input_tokens': 13, 'output_tokens': 440, 'total_tokens': 453}\n",
      "Assistant: Gen AI stands for **Generative Artificial Intelligence**. \n",
      "\n",
      "It's a type of artificial intelligence that focuses on creating new content, rather than simply analyzing existing data. Think of it like this:\n",
      "\n",
      "* **Traditional AI:**  Analyzes data, identifies patterns, and makes predictions. (e.g., recommending a movie based on your past watch history)\n",
      "* **Gen AI:**  Uses learned patterns to generate new content. (e.g., writing a poem in the style of Shakespeare, composing a piece of music, creating a realistic image from a text description)\n",
      "\n",
      "**Here are some key things to know about Gen AI:**\n",
      "\n",
      "* **How it works:** Gen AI models are trained on massive datasets of text, code, images, audio, or other types of data. This allows them to learn the underlying patterns and structures within the data. They can then use this knowledge to generate new content that resembles the training data.\n",
      "* **Examples:**\n",
      "    * **Text Generation:** ChatGPT (like me!), Bard, Jasper\n",
      "    * **Image Generation:** DALL-E 2, Stable Diffusion, Midjourney\n",
      "    * **Code Generation:** GitHub Copilot, Codex\n",
      "    * **Music Generation:** Amper Music, Jukebox\n",
      "    * **Video Generation:** RunwayML\n",
      "* **Potential applications:** Gen AI has a wide range of potential applications, including:\n",
      "    * **Creative industries:** Writing novels, composing music, creating artwork\n",
      "    * **Marketing and advertising:** Generating personalized content, creating ad copy\n",
      "    * **Education:** Creating interactive learning experiences, generating personalized homework\n",
      "    * **Research:** Accelerating scientific discovery by generating hypotheses and simulations\n",
      "    * **Customer service:** Automating responses to common customer queries\n",
      "\n",
      "**It's important to note:**\n",
      "\n",
      "* Gen AI is still a rapidly evolving field, and there are many ethical considerations surrounding its use.\n",
      "* While Gen AI can generate impressive results, it's important to remember that it's still a machine learning model and its output can sometimes be inaccurate, biased, or even harmful.\n",
      "\n",
      "\n",
      "Let me know if you have any other questions about Gen AI!\n",
      "\n",
      "Goodbye!\n"
     ]
    }
   ],
   "source": [
    "while True:\n",
    "    user_input = input(\"User: \")\n",
    "    if user_input.lower() in [\"quit\",\"q\"]:\n",
    "        print(\"Goodbye!\")\n",
    "        break\n",
    "    for event in graph.stream({'messages':(\"user\",user_input)}):\n",
    "        print(event.values())\n",
    "        for value in event.values():\n",
    "            print(value['messages'])\n",
    "            print(\"Assistant:\",value[\"messages\"].content)"
   ]
  },
  {
   "cell_type": "code",
   "execution_count": null,
   "metadata": {},
   "outputs": [],
   "source": []
  }
 ],
 "metadata": {
  "kernelspec": {
   "display_name": "Python 3",
   "language": "python",
   "name": "python3"
  },
  "language_info": {
   "codemirror_mode": {
    "name": "ipython",
    "version": 3
   },
   "file_extension": ".py",
   "mimetype": "text/x-python",
   "name": "python",
   "nbconvert_exporter": "python",
   "pygments_lexer": "ipython3",
   "version": "3.9.5"
  }
 },
 "nbformat": 4,
 "nbformat_minor": 2
}
